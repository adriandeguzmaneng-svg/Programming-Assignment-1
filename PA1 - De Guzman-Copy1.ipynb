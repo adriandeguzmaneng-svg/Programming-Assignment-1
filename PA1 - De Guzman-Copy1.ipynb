{
 "cells": [
  {
   "cell_type": "markdown",
   "id": "d05cf3cf-b507-4ea3-9d46-cda818f1434d",
   "metadata": {},
   "source": [
    "APLHABET SOUP PROBLEM"
   ]
  },
  {
   "cell_type": "code",
   "execution_count": 84,
   "id": "229e4b36-7880-4e4a-b1dc-d5ce4c4be5a0",
   "metadata": {},
   "outputs": [
    {
     "name": "stdout",
     "output_type": "stream",
     "text": [
      "ehllo\n"
     ]
    }
   ],
   "source": [
    "def alphabet_soup(s):\n",
    "    ordered = list(s) #turn the string into list of letters\n",
    "    ordered.sort() #sort the letters\n",
    "    ordered = ''.join(ordered) #join the letters into a single string\n",
    "    return ordered\n",
    "print(alphabet_soup(\"hello\"))"
   ]
  },
  {
   "cell_type": "markdown",
   "id": "cea517f5-1ee7-43dd-8d7e-79e58a6a0e54",
   "metadata": {},
   "source": [
    "EMOTICON PROBLEM"
   ]
  },
  {
   "cell_type": "code",
   "execution_count": 96,
   "id": "13eaecfa-1051-4db9-bc7a-19afafaae5ea",
   "metadata": {},
   "outputs": [
    {
     "name": "stdout",
     "output_type": "stream",
     "text": [
      "Make me :)\n"
     ]
    }
   ],
   "source": [
    "def emotify(emotion):\n",
    "    if \"smile\" in emotion: \n",
    "        return emotion.replace(\"smile\",\":)\") #look for smile and replace\n",
    "    elif \"grin\" in emotion:\n",
    "        return emotion.replace(\"grin\",\":D\") #look for grin and replace\n",
    "    elif \"sad\" in emotion:\n",
    "        return emotion.replace(\"sad\",\":((\") #look sad and replace\n",
    "    elif \"mad\" in emotion:\n",
    "        return emotion.replace(\"mad\",\">:(\") #look for mad and replace\n",
    "    else:\n",
    "        return emotion #dont replace anything if there are no emoticons\n",
    "print(emotify(\"Make me smile\"))"
   ]
  },
  {
   "cell_type": "markdown",
   "id": "3970ad09-fd7b-4733-b74d-4e62d5d17c67",
   "metadata": {},
   "source": [
    "UNPACKING LIST PROBLEM"
   ]
  },
  {
   "cell_type": "code",
   "execution_count": 99,
   "id": "4c9a7abd-e2c0-4379-ad3c-36acc46eafcb",
   "metadata": {},
   "outputs": [
    {
     "name": "stdout",
     "output_type": "stream",
     "text": [
      "first: 1\n",
      "middle: [2, 3, 4, 5]\n",
      "last: 6\n"
     ]
    }
   ],
   "source": [
    "lst = [1,2,3,4,5,6]\n",
    "\n",
    "print(\"first:\",lst[0]) #get the first element of the list and replace\n",
    "last = lst[-1] #get the last element of the list\n",
    "del(lst[0])\n",
    "del(lst[-1]) #delete the first and last element of the list so that the only ones left is the middle list\n",
    "print(\"middle:\",lst)\n",
    "print(\"last:\",last)"
   ]
  }
 ],
 "metadata": {
  "kernelspec": {
   "display_name": "Python 3 (ipykernel)",
   "language": "python",
   "name": "python3"
  },
  "language_info": {
   "codemirror_mode": {
    "name": "ipython",
    "version": 3
   },
   "file_extension": ".py",
   "mimetype": "text/x-python",
   "name": "python",
   "nbconvert_exporter": "python",
   "pygments_lexer": "ipython3",
   "version": "3.13.5"
  }
 },
 "nbformat": 4,
 "nbformat_minor": 5
}
